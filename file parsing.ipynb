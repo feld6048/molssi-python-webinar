{
 "cells": [
  {
   "cell_type": "markdown",
   "metadata": {},
   "source": [
    "# File Parsing"
   ]
  },
  {
   "cell_type": "code",
   "execution_count": 1,
   "metadata": {},
   "outputs": [
    {
     "name": "stdout",
     "output_type": "stream",
     "text": [
      "03_Prod.mdout              \u001b[34moutfiles\u001b[m\u001b[m/\r\n",
      "benzene.xyz                sapt.out\r\n",
      "buckminsterfullerene.xyz   water.xyz\r\n",
      "distance_data_headers.csv\r\n"
     ]
    }
   ],
   "source": [
    "ls data"
   ]
  },
  {
   "cell_type": "code",
   "execution_count": 2,
   "metadata": {},
   "outputs": [
    {
     "data": {
      "text/plain": [
       "'/Users/katiefelde/Desktop/cms-workshop'"
      ]
     },
     "execution_count": 2,
     "metadata": {},
     "output_type": "execute_result"
    }
   ],
   "source": [
    "pwd"
   ]
  },
  {
   "cell_type": "code",
   "execution_count": 3,
   "metadata": {},
   "outputs": [],
   "source": [
    "import os"
   ]
  },
  {
   "cell_type": "code",
   "execution_count": 5,
   "metadata": {},
   "outputs": [
    {
     "name": "stdout",
     "output_type": "stream",
     "text": [
      "data/outfiles/ethanol.out\n"
     ]
    }
   ],
   "source": [
    "ethanol_file = os.path.join('data', 'outfiles', 'ethanol.out')\n",
    "print(ethanol_file)"
   ]
  },
  {
   "cell_type": "code",
   "execution_count": 6,
   "metadata": {},
   "outputs": [
    {
     "name": "stdout",
     "output_type": "stream",
     "text": [
      "270\n"
     ]
    }
   ],
   "source": [
    "file = open(ethanol_file, 'r')\n",
    "data = file.readlines()\n",
    "file.close\n",
    "print(len(data))"
   ]
  },
  {
   "cell_type": "code",
   "execution_count": 10,
   "metadata": {},
   "outputs": [
    {
     "name": "stdout",
     "output_type": "stream",
     "text": [
      "  @DF-RHF Final Energy:  -154.09130176573018\n",
      "\n"
     ]
    }
   ],
   "source": [
    "for line in data:\n",
    "    if 'Final Energy' in line:\n",
    "        energyline = line\n",
    "        print(energyline)"
   ]
  },
  {
   "cell_type": "code",
   "execution_count": 19,
   "metadata": {},
   "outputs": [
    {
     "name": "stdout",
     "output_type": "stream",
     "text": [
      "['@DF-RHF', 'Final', 'Energy:', '-154.09130176573018']\n",
      "-154.09130176573018\n"
     ]
    },
    {
     "data": {
      "text/plain": [
       "str"
      ]
     },
     "execution_count": 19,
     "metadata": {},
     "output_type": "execute_result"
    }
   ],
   "source": [
    "words = energyline.split()\n",
    "print(words)\n",
    "energy = words[-1]\n",
    "print(energy)\n",
    "type(energy)"
   ]
  },
  {
   "cell_type": "code",
   "execution_count": 22,
   "metadata": {},
   "outputs": [
    {
     "data": {
      "text/plain": [
       "float"
      ]
     },
     "execution_count": 22,
     "metadata": {},
     "output_type": "execute_result"
    }
   ],
   "source": [
    "energy = float(energy)\n",
    "type(energy)"
   ]
  },
  {
   "cell_type": "markdown",
   "metadata": {},
   "source": [
    "# Multiple Files"
   ]
  },
  {
   "cell_type": "code",
   "execution_count": 24,
   "metadata": {},
   "outputs": [
    {
     "name": "stdout",
     "output_type": "stream",
     "text": [
      "['data/outfiles/butanol.out', 'data/outfiles/decanol.out', 'data/outfiles/ethanol.out', 'data/outfiles/heptanol.out', 'data/outfiles/hexanol.out', 'data/outfiles/methanol.out', 'data/outfiles/nonanol.out', 'data/outfiles/octanol.out', 'data/outfiles/pentanol.out', 'data/outfiles/propanol.out']\n"
     ]
    }
   ],
   "source": [
    "import glob\n",
    "filelocation = os.path.join('data', 'outfiles', '*.out')\n",
    "filenames = glob.glob(filelocation)\n",
    "print(filenames)"
   ]
  },
  {
   "cell_type": "code",
   "execution_count": 25,
   "metadata": {},
   "outputs": [
    {
     "name": "stdout",
     "output_type": "stream",
     "text": [
      "-232.1655798347283\n",
      "-466.3836241400086\n",
      "-154.09130176573018\n",
      "-349.27397687072676\n",
      "-310.2385332251633\n",
      "-115.04800861868374\n",
      "-427.3465180082815\n",
      "-388.3110864554743\n",
      "-271.20138119895074\n",
      "-193.12836249728798\n"
     ]
    }
   ],
   "source": [
    "for file in filenames:\n",
    "    outfile = open(file, 'r')\n",
    "    data = outfile.readlines()\n",
    "    outfile.close\n",
    "    for line in data:\n",
    "        if 'Final Energy' in line:\n",
    "            energyline = line\n",
    "            words = energyline.split()\n",
    "            energy = float(words[-1])\n",
    "            print(energy)"
   ]
  },
  {
   "cell_type": "code",
   "execution_count": 32,
   "metadata": {},
   "outputs": [
    {
     "name": "stdout",
     "output_type": "stream",
     "text": [
      "data/outfiles/butanol.out\n",
      "butanol.out\n",
      "butanol\n"
     ]
    }
   ],
   "source": [
    "firstfile = filenames[0]\n",
    "print(firstfile)\n",
    "filename = os.path.basename(firstfile)\n",
    "print(filename)\n",
    "fileword = filename.split('.')\n",
    "molecule = fileword[0]\n",
    "print(molecule)"
   ]
  },
  {
   "cell_type": "code",
   "execution_count": 37,
   "metadata": {},
   "outputs": [
    {
     "name": "stdout",
     "output_type": "stream",
     "text": [
      "butanol : -232.1655798347283\n",
      "decanol : -466.3836241400086\n",
      "ethanol : -154.09130176573018\n",
      "heptanol : -349.27397687072676\n",
      "hexanol : -310.2385332251633\n",
      "methanol : -115.04800861868374\n",
      "nonanol : -427.3465180082815\n",
      "octanol : -388.3110864554743\n",
      "pentanol : -271.20138119895074\n",
      "propanol : -193.12836249728798\n"
     ]
    }
   ],
   "source": [
    "for file in filenames:\n",
    "    outfile = open(file, 'r')\n",
    "    data = outfile.readlines()\n",
    "    outfile.close\n",
    "    for line in data:\n",
    "        if 'Final Energy' in line:\n",
    "            energyline = line\n",
    "            words = energyline.split()\n",
    "            energy = float(words[-1])\n",
    "            filename = os.path.basename(file)\n",
    "            fileword = filename.split('.')\n",
    "            molecule = fileword[0]\n",
    "            print(molecule, \":\", energy)"
   ]
  },
  {
   "cell_type": "code",
   "execution_count": 39,
   "metadata": {},
   "outputs": [
    {
     "name": "stdout",
     "output_type": "stream",
     "text": [
      "butanol: -232.1655798347283\n",
      "decanol: -466.3836241400086\n",
      "ethanol: -154.09130176573018\n",
      "heptanol: -349.27397687072676\n",
      "hexanol: -310.2385332251633\n",
      "methanol: -115.04800861868374\n",
      "nonanol: -427.3465180082815\n",
      "octanol: -388.3110864554743\n",
      "pentanol: -271.20138119895074\n",
      "propanol: -193.12836249728798\n"
     ]
    }
   ],
   "source": [
    "#does it matter what loop its in? specifically for this case? Does it affect speed? I know it does for others. \n",
    "for file in filenames:\n",
    "    outfile = open(file, 'r')\n",
    "    data = outfile.readlines()\n",
    "    outfile.close\n",
    "    filename = os.path.basename(file)\n",
    "    fileword = filename.split('.')\n",
    "    molecule = fileword[0]\n",
    "    for line in data:\n",
    "        if 'Final Energy' in line:\n",
    "            energyline = line\n",
    "            words = energyline.split()\n",
    "            energy = float(words[-1])\n",
    "            print(molecule + \":\", energy)"
   ]
  },
  {
   "cell_type": "code",
   "execution_count": 47,
   "metadata": {},
   "outputs": [],
   "source": [
    "filehandle = open('energies.txt', 'w+')\n",
    "for file in filenames:\n",
    "    outfile = open(file, 'r')\n",
    "    data = outfile.readlines()\n",
    "    outfile.close\n",
    "    filename = os.path.basename(file)\n",
    "    fileword = filename.split('.')\n",
    "    molecule = fileword[0]\n",
    "    for line in data:\n",
    "        if 'Final Energy' in line:\n",
    "            energyline = line\n",
    "            words = energyline.split()\n",
    "            energy = float(words[-1])\n",
    "            filehandle.write(f'{molecule} \\t {energy:.4f} \\n') #just .4 gives 4 sigfigs total, but .4f means 4 decimal places\n",
    "filehandle.close()\n"
   ]
  },
  {
   "cell_type": "code",
   "execution_count": null,
   "metadata": {},
   "outputs": [],
   "source": []
  }
 ],
 "metadata": {
  "kernelspec": {
   "display_name": "Python 3",
   "language": "python",
   "name": "python3"
  },
  "language_info": {
   "codemirror_mode": {
    "name": "ipython",
    "version": 3
   },
   "file_extension": ".py",
   "mimetype": "text/x-python",
   "name": "python",
   "nbconvert_exporter": "python",
   "pygments_lexer": "ipython3",
   "version": "3.7.6"
  }
 },
 "nbformat": 4,
 "nbformat_minor": 4
}
