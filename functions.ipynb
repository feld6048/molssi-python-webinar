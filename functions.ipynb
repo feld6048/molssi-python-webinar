{
 "cells": [
  {
   "cell_type": "markdown",
   "metadata": {},
   "source": [
    "# Writing Functions"
   ]
  },
  {
   "cell_type": "code",
   "execution_count": 2,
   "metadata": {},
   "outputs": [
    {
     "name": "stdout",
     "output_type": "stream",
     "text": [
      "O to H1 : 0.969\n",
      "O to H2 : 0.969\n"
     ]
    }
   ],
   "source": [
    "import numpy as np\n",
    "import os\n",
    "\n",
    "file = os.path.join('data', 'water.xyz')\n",
    "water = np.genfromtxt(fname=file, skip_header=2, dtype='unicode')\n",
    "\n",
    "num_atoms = len(water)\n",
    "atom = water[:,0]\n",
    "coords = water[:,1:]\n",
    "coords = coords.astype(np.float)\n",
    "x = coords[:,0]\n",
    "y = coords[:,1]\n",
    "z = coords[:,2]\n",
    "\n",
    "for i in range(0, num_atoms):\n",
    "    for j in range(0, num_atoms):\n",
    "        if i < j:\n",
    "            dist = np.sqrt((x[i]-x[j])**2+(y[i]-y[j])**2+(z[i]-z[j])**2)\n",
    "            if dist > 0 and dist < 1.5:\n",
    "                print(f'{atom[i]} to {atom[j]} : {dist:.3f}')"
   ]
  },
  {
   "cell_type": "markdown",
   "metadata": {},
   "source": [
    "def function(parameters):\n",
    "    code block\n",
    "    return value\n",
    "    \n",
    "They used a different code, in which they find the diff between the xs, ys, and zs, and then calc the dist, all in the function"
   ]
  },
  {
   "cell_type": "code",
   "execution_count": 33,
   "metadata": {},
   "outputs": [
    {
     "name": "stdout",
     "output_type": "stream",
     "text": [
      "O to H1 : 0.969\n",
      "O to H2 : 0.969\n"
     ]
    }
   ],
   "source": [
    "import numpy as np\n",
    "import os\n",
    "\n",
    "file = os.path.join('data', 'water.xyz')\n",
    "water = np.genfromtxt(fname=file, skip_header=2, dtype='unicode')\n",
    "atom = water[:,0]\n",
    "coords = water[:,1:]\n",
    "coords = coords.astype(np.float)\n",
    "for i in range(0, num_atoms):\n",
    "    for j in range(0, num_atoms):\n",
    "        if i < j:\n",
    "            distances = calc_dist(coords[i], coords[j])\n",
    "            if distances > 0 and distances < 1.5:\n",
    "                print(f'{atom[i]} to {atom[j]} : {distances:.3f}')"
   ]
  },
  {
   "cell_type": "code",
   "execution_count": 8,
   "metadata": {},
   "outputs": [],
   "source": [
    "def calc_dist(coords1, coords2):\n",
    "    distance = np.sqrt((coords1[0]-coords2[0])**2+(coords1[1]-coords2[1])**2+(coords1[2]-coords2[2])**2)\n",
    "    return distance"
   ]
  },
  {
   "cell_type": "code",
   "execution_count": 9,
   "metadata": {},
   "outputs": [
    {
     "data": {
      "text/plain": [
       "1.0"
      ]
     },
     "execution_count": 9,
     "metadata": {},
     "output_type": "execute_result"
    }
   ],
   "source": [
    "v1 = [0, 0, 0]\n",
    "v2 = [0, 0, 1]\n",
    "calc_dist(v1, v2)"
   ]
  },
  {
   "cell_type": "code",
   "execution_count": 40,
   "metadata": {},
   "outputs": [],
   "source": [
    "def bond_check(distances, min_len=0, max_len=1.5):\n",
    "    '''\n",
    "    Check if a distance is a bond based on minimum and maximum lengths\n",
    "    Inputs: distance, minimum length, maximum length\n",
    "    Defults: minimum = 0, maximum = 1.5\n",
    "    Returns: True or False\n",
    "    '''\n",
    "    if distances > min_len and distances <= max_len:\n",
    "        return True\n",
    "    else:\n",
    "        return False"
   ]
  },
  {
   "cell_type": "code",
   "execution_count": 41,
   "metadata": {},
   "outputs": [
    {
     "data": {
      "text/plain": [
       "False"
      ]
     },
     "execution_count": 41,
     "metadata": {},
     "output_type": "execute_result"
    }
   ],
   "source": [
    "bond_check(1.8)"
   ]
  },
  {
   "cell_type": "code",
   "execution_count": 42,
   "metadata": {},
   "outputs": [
    {
     "name": "stdout",
     "output_type": "stream",
     "text": [
      "Help on function bond_check in module __main__:\n",
      "\n",
      "bond_check(distances, min_len=0, max_len=1.5)\n",
      "    Check if a distance is a bond based on minimum and maximum lengths\n",
      "    Inputs: distance, minimu length, maximum length\n",
      "    Defults: minimum = 0, maximum = 1.5\n",
      "    Returns: True or False\n",
      "\n"
     ]
    }
   ],
   "source": [
    "help(bond_check)"
   ]
  },
  {
   "cell_type": "code",
   "execution_count": 43,
   "metadata": {},
   "outputs": [
    {
     "name": "stdout",
     "output_type": "stream",
     "text": [
      "O to H1 : 0.969\n",
      "O to H2 : 0.969\n"
     ]
    }
   ],
   "source": [
    "import numpy as np\n",
    "import os\n",
    "\n",
    "def calc_dist(coords1, coords2):\n",
    "    distance = np.sqrt((coords1[0]-coords2[0])**2+(coords1[1]-coords2[1])**2+(coords1[2]-coords2[2])**2)\n",
    "    return distance\n",
    "\n",
    "def bond_check(distances, min_len=0, max_len=1.5):\n",
    "    '''\n",
    "    Check if a distance is a bond based on minimum and maximum lengths\n",
    "    Inputs: distance, minimum length, maximum length\n",
    "    Defults: minimum = 0, maximum = 1.5\n",
    "    Returns: True or False\n",
    "    '''\n",
    "    if distances > min_len and distances <= max_len:\n",
    "        return True\n",
    "    else:\n",
    "        return False\n",
    "\n",
    "file = os.path.join('data', 'water.xyz')\n",
    "water = np.genfromtxt(fname=file, skip_header=2, dtype='unicode')\n",
    "num_atoms = len(water)\n",
    "atom = water[:,0]\n",
    "coords = water[:,1:]\n",
    "coords = coords.astype(np.float)\n",
    "for i in range(0, num_atoms):\n",
    "    for j in range(0, num_atoms):\n",
    "        if i < j:\n",
    "            distances = calc_dist(coords[i], coords[j])\n",
    "            if bond_check(distances) is True:\n",
    "                print(f'{atom[i]} to {atom[j]} : {distances:.3f}')"
   ]
  },
  {
   "cell_type": "code",
   "execution_count": null,
   "metadata": {},
   "outputs": [],
   "source": []
  }
 ],
 "metadata": {
  "kernelspec": {
   "display_name": "Python 3",
   "language": "python",
   "name": "python3"
  },
  "language_info": {
   "codemirror_mode": {
    "name": "ipython",
    "version": 3
   },
   "file_extension": ".py",
   "mimetype": "text/x-python",
   "name": "python",
   "nbconvert_exporter": "python",
   "pygments_lexer": "ipython3",
   "version": "3.7.6"
  }
 },
 "nbformat": 4,
 "nbformat_minor": 4
}
